{
 "cells": [
  {
   "cell_type": "code",
   "execution_count": 2,
   "metadata": {},
   "outputs": [
    {
     "name": "stdout",
     "output_type": "stream",
     "text": [
      "Using device: cpu\n",
      "Tensor A: tensor([[0.3012, 0.0847],\n",
      "        [0.4760, 0.3745]])\n",
      "Tensor B: tensor([[0.0294, 0.2461],\n",
      "        [0.7085, 0.3003]])\n",
      "Result of A + B: tensor([[0.3307, 0.3308],\n",
      "        [1.1845, 0.6749]])\n"
     ]
    }
   ],
   "source": [
    "import torch\n",
    "\n",
    "# Check if CUDA (GPU) is available\n",
    "device = \"cuda\" if torch.cuda.is_available() else \"cpu\"\n",
    "print(f\"Using device: {device}\")\n",
    "\n",
    "# Create two random tensors\n",
    "a = torch.rand(2, 2).to(device)\n",
    "b = torch.rand(2, 2).to(device)\n",
    "\n",
    "# Perform a simple matrix addition\n",
    "c = a + b\n",
    "\n",
    "print(\"Tensor A:\", a)\n",
    "print(\"Tensor B:\", b)\n",
    "print(\"Result of A + B:\", c)"
   ]
  },
  {
   "cell_type": "code",
   "execution_count": null,
   "metadata": {},
   "outputs": [],
   "source": []
  }
 ],
 "metadata": {
  "kernelspec": {
   "display_name": "Python 3 (ipykernel)",
   "language": "python",
   "name": "python3"
  },
  "language_info": {
   "codemirror_mode": {
    "name": "ipython",
    "version": 3
   },
   "file_extension": ".py",
   "mimetype": "text/x-python",
   "name": "python",
   "nbconvert_exporter": "python",
   "pygments_lexer": "ipython3",
   "version": "3.12.1"
  }
 },
 "nbformat": 4,
 "nbformat_minor": 2
}
