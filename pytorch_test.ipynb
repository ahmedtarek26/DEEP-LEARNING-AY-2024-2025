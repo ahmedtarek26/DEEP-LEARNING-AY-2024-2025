{
 "cells": [
  {
   "cell_type": "code",
   "execution_count": 1,
   "metadata": {},
   "outputs": [
    {
     "name": "stdout",
     "output_type": "stream",
     "text": [
      "Using device: cpu\n",
      "Tensor A: tensor([[0.7434, 0.2678],\n",
      "        [0.6727, 0.3614]])\n",
      "Tensor B: tensor([[0.5978, 0.8814],\n",
      "        [0.7096, 0.1834]])\n",
      "Result of A + B: tensor([[1.3412, 1.1492],\n",
      "        [1.3823, 0.5448]])\n"
     ]
    }
   ],
   "source": [
    "import torch\n",
    "\n",
    "# Check if CUDA (GPU) is available\n",
    "device = \"cuda\" if torch.cuda.is_available() else \"cpu\"\n",
    "print(f\"Using device: {device}\")\n",
    "\n",
    "# Create two random tensors\n",
    "a = torch.rand(2, 2).to(device)\n",
    "b = torch.rand(2, 2).to(device)\n",
    "\n",
    "# Perform a simple matrix addition\n",
    "c = a + b\n",
    "\n",
    "print(\"Tensor A:\", a)\n",
    "print(\"Tensor B:\", b)\n",
    "print(\"Result of A + B:\", c)"
   ]
  },
  {
   "cell_type": "code",
   "execution_count": null,
   "metadata": {},
   "outputs": [],
   "source": []
  }
 ],
 "metadata": {
  "kernelspec": {
   "display_name": "Python 3",
   "language": "python",
   "name": "python3"
  },
  "language_info": {
   "codemirror_mode": {
    "name": "ipython",
    "version": 3
   },
   "file_extension": ".py",
   "mimetype": "text/x-python",
   "name": "python",
   "nbconvert_exporter": "python",
   "pygments_lexer": "ipython3",
   "version": "3.12.1"
  }
 },
 "nbformat": 4,
 "nbformat_minor": 2
}
